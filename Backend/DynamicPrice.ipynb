{
 "cells": [
  {
   "cell_type": "code",
   "execution_count": 1,
   "metadata": {},
   "outputs": [],
   "source": [
    "import sklearn\n",
    "import numpy as np\n",
    "import pandas as pd\n",
    "import matplotlib.pyplot as plt\n",
    "import seaborn as sns\n",
    "import os\n",
    "import sys\n",
    "from sklearn.model_selection import train_test_split"
   ]
  },
  {
   "cell_type": "code",
   "execution_count": 2,
   "metadata": {},
   "outputs": [
    {
     "data": {
      "text/html": [
       "<div>\n",
       "<style scoped>\n",
       "    .dataframe tbody tr th:only-of-type {\n",
       "        vertical-align: middle;\n",
       "    }\n",
       "\n",
       "    .dataframe tbody tr th {\n",
       "        vertical-align: top;\n",
       "    }\n",
       "\n",
       "    .dataframe thead th {\n",
       "        text-align: right;\n",
       "    }\n",
       "</style>\n",
       "<table border=\"1\" class=\"dataframe\">\n",
       "  <thead>\n",
       "    <tr style=\"text-align: right;\">\n",
       "      <th></th>\n",
       "      <th>username</th>\n",
       "      <th>service_provider_username</th>\n",
       "      <th>service</th>\n",
       "      <th>price</th>\n",
       "      <th>no_of_pages</th>\n",
       "      <th>topic</th>\n",
       "      <th>date</th>\n",
       "      <th>deadline</th>\n",
       "    </tr>\n",
       "  </thead>\n",
       "  <tbody>\n",
       "    <tr>\n",
       "      <th>0</th>\n",
       "      <td>user1</td>\n",
       "      <td>provider1</td>\n",
       "      <td>Website</td>\n",
       "      <td>1525</td>\n",
       "      <td>6</td>\n",
       "      <td>Topic1</td>\n",
       "      <td>2024-01-22</td>\n",
       "      <td>2024-02-02</td>\n",
       "    </tr>\n",
       "    <tr>\n",
       "      <th>1</th>\n",
       "      <td>user2</td>\n",
       "      <td>provider2</td>\n",
       "      <td>PPT</td>\n",
       "      <td>200</td>\n",
       "      <td>7</td>\n",
       "      <td>Topic2</td>\n",
       "      <td>2024-02-09</td>\n",
       "      <td>2024-02-14</td>\n",
       "    </tr>\n",
       "    <tr>\n",
       "      <th>2</th>\n",
       "      <td>user3</td>\n",
       "      <td>provider3</td>\n",
       "      <td>PPT</td>\n",
       "      <td>200</td>\n",
       "      <td>8</td>\n",
       "      <td>Topic3</td>\n",
       "      <td>2024-02-18</td>\n",
       "      <td>2024-03-02</td>\n",
       "    </tr>\n",
       "    <tr>\n",
       "      <th>3</th>\n",
       "      <td>user4</td>\n",
       "      <td>provider4</td>\n",
       "      <td>Website</td>\n",
       "      <td>1525</td>\n",
       "      <td>6</td>\n",
       "      <td>Topic4</td>\n",
       "      <td>2024-02-19</td>\n",
       "      <td>2024-03-01</td>\n",
       "    </tr>\n",
       "    <tr>\n",
       "      <th>4</th>\n",
       "      <td>user5</td>\n",
       "      <td>provider5</td>\n",
       "      <td>App</td>\n",
       "      <td>2075</td>\n",
       "      <td>6</td>\n",
       "      <td>Topic5</td>\n",
       "      <td>2024-02-12</td>\n",
       "      <td>2024-02-25</td>\n",
       "    </tr>\n",
       "  </tbody>\n",
       "</table>\n",
       "</div>"
      ],
      "text/plain": [
       "  username service_provider_username  service  price  no_of_pages   topic  \\\n",
       "0    user1                 provider1  Website   1525            6  Topic1   \n",
       "1    user2                 provider2      PPT    200            7  Topic2   \n",
       "2    user3                 provider3      PPT    200            8  Topic3   \n",
       "3    user4                 provider4  Website   1525            6  Topic4   \n",
       "4    user5                 provider5      App   2075            6  Topic5   \n",
       "\n",
       "         date    deadline  \n",
       "0  2024-01-22  2024-02-02  \n",
       "1  2024-02-09  2024-02-14  \n",
       "2  2024-02-18  2024-03-02  \n",
       "3  2024-02-19  2024-03-01  \n",
       "4  2024-02-12  2024-02-25  "
      ]
     },
     "execution_count": 2,
     "metadata": {},
     "output_type": "execute_result"
    }
   ],
   "source": [
    "file_path = './generated_dataset.csv'\n",
    "data = pd.read_csv(file_path)\n",
    "data.head()\n"
   ]
  },
  {
   "cell_type": "code",
   "execution_count": 3,
   "metadata": {},
   "outputs": [
    {
     "data": {
      "text/html": [
       "<div>\n",
       "<style scoped>\n",
       "    .dataframe tbody tr th:only-of-type {\n",
       "        vertical-align: middle;\n",
       "    }\n",
       "\n",
       "    .dataframe tbody tr th {\n",
       "        vertical-align: top;\n",
       "    }\n",
       "\n",
       "    .dataframe thead th {\n",
       "        text-align: right;\n",
       "    }\n",
       "</style>\n",
       "<table border=\"1\" class=\"dataframe\">\n",
       "  <thead>\n",
       "    <tr style=\"text-align: right;\">\n",
       "      <th></th>\n",
       "      <th>username</th>\n",
       "      <th>service_provider_username</th>\n",
       "      <th>service</th>\n",
       "      <th>price</th>\n",
       "      <th>no_of_pages</th>\n",
       "      <th>topic</th>\n",
       "      <th>date</th>\n",
       "      <th>deadline</th>\n",
       "    </tr>\n",
       "  </thead>\n",
       "  <tbody>\n",
       "    <tr>\n",
       "      <th>0</th>\n",
       "      <td>user1</td>\n",
       "      <td>provider1</td>\n",
       "      <td>Website</td>\n",
       "      <td>1525</td>\n",
       "      <td>6</td>\n",
       "      <td>Topic1</td>\n",
       "      <td>2024-01-22</td>\n",
       "      <td>2024-02-02</td>\n",
       "    </tr>\n",
       "    <tr>\n",
       "      <th>1</th>\n",
       "      <td>user2</td>\n",
       "      <td>provider2</td>\n",
       "      <td>PPT</td>\n",
       "      <td>200</td>\n",
       "      <td>7</td>\n",
       "      <td>Topic2</td>\n",
       "      <td>2024-02-09</td>\n",
       "      <td>2024-02-14</td>\n",
       "    </tr>\n",
       "    <tr>\n",
       "      <th>2</th>\n",
       "      <td>user3</td>\n",
       "      <td>provider3</td>\n",
       "      <td>PPT</td>\n",
       "      <td>200</td>\n",
       "      <td>8</td>\n",
       "      <td>Topic3</td>\n",
       "      <td>2024-02-18</td>\n",
       "      <td>2024-03-02</td>\n",
       "    </tr>\n",
       "    <tr>\n",
       "      <th>3</th>\n",
       "      <td>user4</td>\n",
       "      <td>provider4</td>\n",
       "      <td>Website</td>\n",
       "      <td>1525</td>\n",
       "      <td>6</td>\n",
       "      <td>Topic4</td>\n",
       "      <td>2024-02-19</td>\n",
       "      <td>2024-03-01</td>\n",
       "    </tr>\n",
       "    <tr>\n",
       "      <th>4</th>\n",
       "      <td>user5</td>\n",
       "      <td>provider5</td>\n",
       "      <td>App</td>\n",
       "      <td>2075</td>\n",
       "      <td>6</td>\n",
       "      <td>Topic5</td>\n",
       "      <td>2024-02-12</td>\n",
       "      <td>2024-02-25</td>\n",
       "    </tr>\n",
       "  </tbody>\n",
       "</table>\n",
       "</div>"
      ],
      "text/plain": [
       "  username service_provider_username  service  price  no_of_pages   topic  \\\n",
       "0    user1                 provider1  Website   1525            6  Topic1   \n",
       "1    user2                 provider2      PPT    200            7  Topic2   \n",
       "2    user3                 provider3      PPT    200            8  Topic3   \n",
       "3    user4                 provider4  Website   1525            6  Topic4   \n",
       "4    user5                 provider5      App   2075            6  Topic5   \n",
       "\n",
       "         date    deadline  \n",
       "0  2024-01-22  2024-02-02  \n",
       "1  2024-02-09  2024-02-14  \n",
       "2  2024-02-18  2024-03-02  \n",
       "3  2024-02-19  2024-03-01  \n",
       "4  2024-02-12  2024-02-25  "
      ]
     },
     "execution_count": 3,
     "metadata": {},
     "output_type": "execute_result"
    }
   ],
   "source": [
    "columns_to_keep = ['username', 'service_provider_username', 'service', 'price', 'no_of_pages', 'topic','date', 'deadline']\n",
    "data = data[columns_to_keep].dropna()\n",
    "data.head()\n",
    "\n"
   ]
  },
  {
   "cell_type": "code",
   "execution_count": 4,
   "metadata": {},
   "outputs": [
    {
     "data": {
      "text/html": [
       "<div>\n",
       "<style scoped>\n",
       "    .dataframe tbody tr th:only-of-type {\n",
       "        vertical-align: middle;\n",
       "    }\n",
       "\n",
       "    .dataframe tbody tr th {\n",
       "        vertical-align: top;\n",
       "    }\n",
       "\n",
       "    .dataframe thead th {\n",
       "        text-align: right;\n",
       "    }\n",
       "</style>\n",
       "<table border=\"1\" class=\"dataframe\">\n",
       "  <thead>\n",
       "    <tr style=\"text-align: right;\">\n",
       "      <th></th>\n",
       "      <th>no_of_pages</th>\n",
       "    </tr>\n",
       "  </thead>\n",
       "  <tbody>\n",
       "    <tr>\n",
       "      <th>count</th>\n",
       "      <td>10000.00000</td>\n",
       "    </tr>\n",
       "    <tr>\n",
       "      <th>mean</th>\n",
       "      <td>7.78150</td>\n",
       "    </tr>\n",
       "    <tr>\n",
       "      <th>std</th>\n",
       "      <td>5.09619</td>\n",
       "    </tr>\n",
       "    <tr>\n",
       "      <th>min</th>\n",
       "      <td>1.00000</td>\n",
       "    </tr>\n",
       "    <tr>\n",
       "      <th>25%</th>\n",
       "      <td>4.00000</td>\n",
       "    </tr>\n",
       "    <tr>\n",
       "      <th>50%</th>\n",
       "      <td>6.00000</td>\n",
       "    </tr>\n",
       "    <tr>\n",
       "      <th>75%</th>\n",
       "      <td>10.25000</td>\n",
       "    </tr>\n",
       "    <tr>\n",
       "      <th>max</th>\n",
       "      <td>20.00000</td>\n",
       "    </tr>\n",
       "  </tbody>\n",
       "</table>\n",
       "</div>"
      ],
      "text/plain": [
       "       no_of_pages\n",
       "count  10000.00000\n",
       "mean       7.78150\n",
       "std        5.09619\n",
       "min        1.00000\n",
       "25%        4.00000\n",
       "50%        6.00000\n",
       "75%       10.25000\n",
       "max       20.00000"
      ]
     },
     "execution_count": 4,
     "metadata": {},
     "output_type": "execute_result"
    }
   ],
   "source": [
    "y=data['price']\n",
    "features=['service','no_of_pages','date','deadline']\n",
    "X=data[features]\n",
    "X.describe()"
   ]
  },
  {
   "cell_type": "code",
   "execution_count": 5,
   "metadata": {},
   "outputs": [],
   "source": [
    "data['date'] = pd.to_datetime(data['date'])\n",
    "data['deadline'] = pd.to_datetime(data['deadline'])\n",
    "data['days']=data['deadline']-data['date']\n",
    "\n"
   ]
  },
  {
   "cell_type": "code",
   "execution_count": 6,
   "metadata": {},
   "outputs": [],
   "source": [
    "data.drop(['date','deadline'],axis=1,inplace=True)"
   ]
  },
  {
   "cell_type": "code",
   "execution_count": 7,
   "metadata": {},
   "outputs": [],
   "source": [
    "data.drop(['username','service_provider_username'],axis=1,inplace=True)"
   ]
  },
  {
   "cell_type": "code",
   "execution_count": 8,
   "metadata": {},
   "outputs": [
    {
     "data": {
      "text/html": [
       "<div>\n",
       "<style scoped>\n",
       "    .dataframe tbody tr th:only-of-type {\n",
       "        vertical-align: middle;\n",
       "    }\n",
       "\n",
       "    .dataframe tbody tr th {\n",
       "        vertical-align: top;\n",
       "    }\n",
       "\n",
       "    .dataframe thead th {\n",
       "        text-align: right;\n",
       "    }\n",
       "</style>\n",
       "<table border=\"1\" class=\"dataframe\">\n",
       "  <thead>\n",
       "    <tr style=\"text-align: right;\">\n",
       "      <th></th>\n",
       "      <th>service</th>\n",
       "      <th>price</th>\n",
       "      <th>no_of_pages</th>\n",
       "      <th>topic</th>\n",
       "      <th>days</th>\n",
       "    </tr>\n",
       "  </thead>\n",
       "  <tbody>\n",
       "    <tr>\n",
       "      <th>0</th>\n",
       "      <td>Website</td>\n",
       "      <td>1525</td>\n",
       "      <td>6</td>\n",
       "      <td>Topic1</td>\n",
       "      <td>11</td>\n",
       "    </tr>\n",
       "    <tr>\n",
       "      <th>1</th>\n",
       "      <td>PPT</td>\n",
       "      <td>200</td>\n",
       "      <td>7</td>\n",
       "      <td>Topic2</td>\n",
       "      <td>5</td>\n",
       "    </tr>\n",
       "    <tr>\n",
       "      <th>2</th>\n",
       "      <td>PPT</td>\n",
       "      <td>200</td>\n",
       "      <td>8</td>\n",
       "      <td>Topic3</td>\n",
       "      <td>13</td>\n",
       "    </tr>\n",
       "    <tr>\n",
       "      <th>3</th>\n",
       "      <td>Website</td>\n",
       "      <td>1525</td>\n",
       "      <td>6</td>\n",
       "      <td>Topic4</td>\n",
       "      <td>11</td>\n",
       "    </tr>\n",
       "    <tr>\n",
       "      <th>4</th>\n",
       "      <td>App</td>\n",
       "      <td>2075</td>\n",
       "      <td>6</td>\n",
       "      <td>Topic5</td>\n",
       "      <td>13</td>\n",
       "    </tr>\n",
       "  </tbody>\n",
       "</table>\n",
       "</div>"
      ],
      "text/plain": [
       "   service  price  no_of_pages   topic  days\n",
       "0  Website   1525            6  Topic1    11\n",
       "1      PPT    200            7  Topic2     5\n",
       "2      PPT    200            8  Topic3    13\n",
       "3  Website   1525            6  Topic4    11\n",
       "4      App   2075            6  Topic5    13"
      ]
     },
     "execution_count": 8,
     "metadata": {},
     "output_type": "execute_result"
    }
   ],
   "source": [
    "data['days']=data['days'].dt.days\n",
    "data.head()\n"
   ]
  },
  {
   "cell_type": "code",
   "execution_count": 9,
   "metadata": {},
   "outputs": [],
   "source": [
    "data.drop(['topic'],axis=1,inplace=True)"
   ]
  },
  {
   "cell_type": "code",
   "execution_count": 10,
   "metadata": {},
   "outputs": [
    {
     "data": {
      "text/html": [
       "<div>\n",
       "<style scoped>\n",
       "    .dataframe tbody tr th:only-of-type {\n",
       "        vertical-align: middle;\n",
       "    }\n",
       "\n",
       "    .dataframe tbody tr th {\n",
       "        vertical-align: top;\n",
       "    }\n",
       "\n",
       "    .dataframe thead th {\n",
       "        text-align: right;\n",
       "    }\n",
       "</style>\n",
       "<table border=\"1\" class=\"dataframe\">\n",
       "  <thead>\n",
       "    <tr style=\"text-align: right;\">\n",
       "      <th></th>\n",
       "      <th>service</th>\n",
       "      <th>price</th>\n",
       "      <th>no_of_pages</th>\n",
       "      <th>days</th>\n",
       "    </tr>\n",
       "  </thead>\n",
       "  <tbody>\n",
       "    <tr>\n",
       "      <th>0</th>\n",
       "      <td>Website</td>\n",
       "      <td>1525</td>\n",
       "      <td>6</td>\n",
       "      <td>11</td>\n",
       "    </tr>\n",
       "    <tr>\n",
       "      <th>1</th>\n",
       "      <td>PPT</td>\n",
       "      <td>200</td>\n",
       "      <td>7</td>\n",
       "      <td>5</td>\n",
       "    </tr>\n",
       "    <tr>\n",
       "      <th>2</th>\n",
       "      <td>PPT</td>\n",
       "      <td>200</td>\n",
       "      <td>8</td>\n",
       "      <td>13</td>\n",
       "    </tr>\n",
       "    <tr>\n",
       "      <th>3</th>\n",
       "      <td>Website</td>\n",
       "      <td>1525</td>\n",
       "      <td>6</td>\n",
       "      <td>11</td>\n",
       "    </tr>\n",
       "    <tr>\n",
       "      <th>4</th>\n",
       "      <td>App</td>\n",
       "      <td>2075</td>\n",
       "      <td>6</td>\n",
       "      <td>13</td>\n",
       "    </tr>\n",
       "    <tr>\n",
       "      <th>...</th>\n",
       "      <td>...</td>\n",
       "      <td>...</td>\n",
       "      <td>...</td>\n",
       "      <td>...</td>\n",
       "    </tr>\n",
       "    <tr>\n",
       "      <th>9995</th>\n",
       "      <td>Website</td>\n",
       "      <td>1500</td>\n",
       "      <td>5</td>\n",
       "      <td>10</td>\n",
       "    </tr>\n",
       "    <tr>\n",
       "      <th>9996</th>\n",
       "      <td>Website</td>\n",
       "      <td>1500</td>\n",
       "      <td>3</td>\n",
       "      <td>15</td>\n",
       "    </tr>\n",
       "    <tr>\n",
       "      <th>9997</th>\n",
       "      <td>Website</td>\n",
       "      <td>1725</td>\n",
       "      <td>6</td>\n",
       "      <td>3</td>\n",
       "    </tr>\n",
       "    <tr>\n",
       "      <th>9998</th>\n",
       "      <td>Website</td>\n",
       "      <td>1500</td>\n",
       "      <td>5</td>\n",
       "      <td>13</td>\n",
       "    </tr>\n",
       "    <tr>\n",
       "      <th>9999</th>\n",
       "      <td>Docs</td>\n",
       "      <td>175</td>\n",
       "      <td>11</td>\n",
       "      <td>12</td>\n",
       "    </tr>\n",
       "  </tbody>\n",
       "</table>\n",
       "<p>10000 rows × 4 columns</p>\n",
       "</div>"
      ],
      "text/plain": [
       "      service  price  no_of_pages  days\n",
       "0     Website   1525            6    11\n",
       "1         PPT    200            7     5\n",
       "2         PPT    200            8    13\n",
       "3     Website   1525            6    11\n",
       "4         App   2075            6    13\n",
       "...       ...    ...          ...   ...\n",
       "9995  Website   1500            5    10\n",
       "9996  Website   1500            3    15\n",
       "9997  Website   1725            6     3\n",
       "9998  Website   1500            5    13\n",
       "9999     Docs    175           11    12\n",
       "\n",
       "[10000 rows x 4 columns]"
      ]
     },
     "execution_count": 10,
     "metadata": {},
     "output_type": "execute_result"
    }
   ],
   "source": [
    "data"
   ]
  },
  {
   "cell_type": "code",
   "execution_count": 11,
   "metadata": {},
   "outputs": [
    {
     "name": "stdout",
     "output_type": "stream",
     "text": [
      "      service  no_of_pages  days\n",
      "2102      2.0           17     9\n",
      "9448      2.0            2     5\n",
      "462       3.0            5    10\n",
      "4563      3.0            4     1\n",
      "5130      1.0           20    10\n",
      "...       ...          ...   ...\n",
      "2773      1.0            5    11\n",
      "1214      1.0            5     2\n",
      "760       2.0            9     2\n",
      "1346      3.0            5     8\n",
      "9558      2.0           20    10\n",
      "\n",
      "[8000 rows x 3 columns]\n",
      "      service  no_of_pages  days\n",
      "1428      2.0           14     4\n",
      "5708      0.0            6     6\n",
      "945       3.0            6    15\n",
      "4050      2.0            9    10\n",
      "4508      2.0            1    15\n",
      "...       ...          ...   ...\n",
      "6977      2.0            6    14\n",
      "4833      2.0            1    14\n",
      "3674      1.0            7     2\n",
      "7450      0.0            3    10\n",
      "2760      3.0            4     4\n",
      "\n",
      "[2000 rows x 3 columns]\n"
     ]
    }
   ],
   "source": [
    "from sklearn.preprocessing import OrdinalEncoder\n",
    "from sklearn.ensemble import RandomForestRegressor\n",
    "y=data['price']\n",
    "features=['service','no_of_pages','days']\n",
    "X=data[features]\n",
    "X.describe()\n",
    "OrdinalEncoder=OrdinalEncoder()\n",
    "from sklearn.model_selection import train_test_split\n",
    "X_train,X_test,y_train,y_test=train_test_split(X,y,test_size=0.2)\n",
    "\n",
    "lable_X_train=X_train.copy()\n",
    "lable_X_test=X_test.copy()\n",
    "\n",
    "lable_X_train[['service']]=OrdinalEncoder.fit_transform(X_train[['service']])\n",
    "lable_X_test[['service']]=OrdinalEncoder.transform(X_test[['service']])\n",
    "\n",
    "model=RandomForestRegressor(n_estimators=100,random_state=0)\n",
    "print(lable_X_train)\n",
    "print(lable_X_test)\n"
   ]
  },
  {
   "cell_type": "code",
   "execution_count": 12,
   "metadata": {},
   "outputs": [],
   "source": [
    "from sklearn.metrics import mean_absolute_error\n",
    "def get_score(model,X_train,X_test,y_train,y_test):\n",
    "    model.fit(X_train,y_train)\n",
    "    preds=model.predict(X_test)\n",
    "    return mean_absolute_error(y_test,preds)    "
   ]
  },
  {
   "cell_type": "code",
   "execution_count": 13,
   "metadata": {},
   "outputs": [
    {
     "data": {
      "text/plain": [
       "0.013875"
      ]
     },
     "execution_count": 13,
     "metadata": {},
     "output_type": "execute_result"
    }
   ],
   "source": [
    "get_score(model,lable_X_train,lable_X_test,y_train,y_test)"
   ]
  },
  {
   "cell_type": "code",
   "execution_count": 14,
   "metadata": {},
   "outputs": [
    {
     "data": {
      "text/plain": [
       "0.01409375"
      ]
     },
     "execution_count": 14,
     "metadata": {},
     "output_type": "execute_result"
    }
   ],
   "source": [
    "from sklearn.metrics import mean_squared_error\n",
    "model.fit(lable_X_train,y_train)\n",
    "preds=model.predict(lable_X_test)\n",
    "\n",
    "accuracy=mean_squared_error(y_test,preds)\n",
    "accuracy"
   ]
  },
  {
   "cell_type": "code",
   "execution_count": 15,
   "metadata": {},
   "outputs": [
    {
     "data": {
      "text/plain": [
       "0.9999999804941825"
      ]
     },
     "execution_count": 15,
     "metadata": {},
     "output_type": "execute_result"
    }
   ],
   "source": [
    "from sklearn.metrics import r2_score\n",
    "r2=r2_score(y_test,preds)\n",
    "r2"
   ]
  },
  {
   "cell_type": "code",
   "execution_count": 16,
   "metadata": {},
   "outputs": [
    {
     "name": "stdout",
     "output_type": "stream",
     "text": [
      "Predicted Price: 2400.0\n"
     ]
    },
    {
     "name": "stderr",
     "output_type": "stream",
     "text": [
      "d:\\Python\\Lib\\site-packages\\sklearn\\base.py:420: UserWarning: X does not have valid feature names, but RandomForestRegressor was fitted with feature names\n",
      "  warnings.warn(\n"
     ]
    }
   ],
   "source": [
    "# 0->App\n",
    "# 1->Docs\n",
    "# 2->PPT\n",
    "# 3->Website               \n",
    "new_data = {\n",
    "    \"service\":0,\n",
    "    \"no_of_pages\":10,\n",
    "    \"days\":4,\n",
    "}\n",
    "\n",
    "input_data_as_numpy_array = np.array([\n",
    "    new_data[\"service\"],new_data[\"no_of_pages\"], new_data[\"days\"]\n",
    "]).reshape(1, -1)\n",
    "\n",
    "prediction = model.predict(input_data_as_numpy_array)\n",
    "print(\"Predicted Price:\", prediction[0])\n"
   ]
  },
  {
   "cell_type": "code",
   "execution_count": 17,
   "metadata": {},
   "outputs": [],
   "source": [
    "# from sklearn.preprocessing import OrdinalEncoder\n",
    "# from sklearn.ensemble import RandomForestRegressor\n",
    "# y=data['price']\n",
    "# features=['service','no_of_pages','days']\n",
    "# X=data[features]\n",
    "# custom_mapping={\n",
    "#     'App':0,\n",
    "#     'Docs':1,\n",
    "#     'PPT':2,\n",
    "#     'Website':3,\n",
    "#     'Case Study':4,\n",
    "#     'Figma':5,\n",
    "#     'Frontend':6,\n",
    "#     'Backend':7,\n",
    "    \n",
    "# }"
   ]
  },
  {
   "cell_type": "code",
   "execution_count": 18,
   "metadata": {},
   "outputs": [],
   "source": [
    "# # New data for prediction\n",
    "# new_data = {\n",
    "#     \"service_type\": \"PPT\",  # Replace with the actual service type\n",
    "#     \"no_of_pages_screens\": 6,\n",
    "#     \"days\": 10,\n",
    "# }\n",
    "\n",
    "# # Perform ordinal encoding on the 'service_type' for new data\n",
    "# encoded_service_type = ordinal_encoder.transform([[new_data[\"service_type\"]]])[0][0]\n",
    "\n",
    "# # Create input data as a DataFrame\n",
    "# input_data = pd.DataFrame({\n",
    "#     \"service_type\": [encoded_service_type],\n",
    "#     \"days\": [new_data[\"days\"]],\n",
    "#     \"no_of_pages_screens\": [new_data[\"no_of_pages_screens\"]],\n",
    "# })\n",
    "\n",
    "# # Predict using the best model obtained from GridSearchCV\n",
    "# predicted_price = best_model.predict(input_data)\n",
    "\n",
    "# # Decode the encoded service_type\n",
    "# decoded_service_type = ordinal_encoder.inverse_transform([[encoded_service_type]])[0][0]\n",
    "\n",
    "# print(\"Original service_type:\", decoded_service_type)\n",
    "# print(\"Predicted Price:\", predicted_price[0])\n"
   ]
  },
  {
   "cell_type": "code",
   "execution_count": 19,
   "metadata": {},
   "outputs": [
    {
     "data": {
      "text/plain": [
       "['DynamicPrice.joblib']"
      ]
     },
     "execution_count": 19,
     "metadata": {},
     "output_type": "execute_result"
    }
   ],
   "source": [
    "# import pickle\n",
    "# file_name=\"DynamicPrice.pkl\"\n",
    "# with open(file_name, 'wb') as file:\n",
    "#     pickle.dump(model, file, protocol=pickle.HIGHEST_PROTOCOL)\n",
    "import joblib\n",
    "\n",
    "joblib.dump(model, 'DynamicPrice.joblib')"
   ]
  },
  {
   "cell_type": "code",
   "execution_count": null,
   "metadata": {},
   "outputs": [],
   "source": []
  }
 ],
 "metadata": {
  "kernelspec": {
   "display_name": "Python 3",
   "language": "python",
   "name": "python3"
  },
  "language_info": {
   "codemirror_mode": {
    "name": "ipython",
    "version": 3
   },
   "file_extension": ".py",
   "mimetype": "text/x-python",
   "name": "python",
   "nbconvert_exporter": "python",
   "pygments_lexer": "ipython3",
   "version": "3.11.3"
  }
 },
 "nbformat": 4,
 "nbformat_minor": 2
}
