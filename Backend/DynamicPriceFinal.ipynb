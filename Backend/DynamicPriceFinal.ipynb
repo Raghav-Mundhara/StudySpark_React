{
 "cells": [
  {
   "cell_type": "code",
   "execution_count": 4,
   "metadata": {},
   "outputs": [],
   "source": [
    "import sklearn\n",
    "import numpy as np\n",
    "import pandas as pd\n",
    "import matplotlib.pyplot as plt\n",
    "import seaborn as sns\n",
    "import os\n",
    "import sys\n",
    "from sklearn.model_selection import train_test_split"
   ]
  },
  {
   "cell_type": "code",
   "execution_count": 5,
   "metadata": {},
   "outputs": [
    {
     "data": {
      "text/html": [
       "<div>\n",
       "<style scoped>\n",
       "    .dataframe tbody tr th:only-of-type {\n",
       "        vertical-align: middle;\n",
       "    }\n",
       "\n",
       "    .dataframe tbody tr th {\n",
       "        vertical-align: top;\n",
       "    }\n",
       "\n",
       "    .dataframe thead th {\n",
       "        text-align: right;\n",
       "    }\n",
       "</style>\n",
       "<table border=\"1\" class=\"dataframe\">\n",
       "  <thead>\n",
       "    <tr style=\"text-align: right;\">\n",
       "      <th></th>\n",
       "      <th>username</th>\n",
       "      <th>service_provider_username</th>\n",
       "      <th>service</th>\n",
       "      <th>price</th>\n",
       "      <th>no_of_pages</th>\n",
       "      <th>topic</th>\n",
       "      <th>date</th>\n",
       "      <th>deadline</th>\n",
       "    </tr>\n",
       "  </thead>\n",
       "  <tbody>\n",
       "    <tr>\n",
       "      <th>0</th>\n",
       "      <td>user1</td>\n",
       "      <td>provider1</td>\n",
       "      <td>App</td>\n",
       "      <td>3500</td>\n",
       "      <td>6</td>\n",
       "      <td>Topic1</td>\n",
       "      <td>2024-03-04</td>\n",
       "      <td>2024-03-05</td>\n",
       "    </tr>\n",
       "    <tr>\n",
       "      <th>1</th>\n",
       "      <td>user2</td>\n",
       "      <td>provider2</td>\n",
       "      <td>PPT</td>\n",
       "      <td>575</td>\n",
       "      <td>17</td>\n",
       "      <td>Topic2</td>\n",
       "      <td>2024-03-25</td>\n",
       "      <td>2024-04-04</td>\n",
       "    </tr>\n",
       "    <tr>\n",
       "      <th>2</th>\n",
       "      <td>user3</td>\n",
       "      <td>provider3</td>\n",
       "      <td>Frontend</td>\n",
       "      <td>1975</td>\n",
       "      <td>16</td>\n",
       "      <td>Topic3</td>\n",
       "      <td>2024-03-27</td>\n",
       "      <td>2024-04-10</td>\n",
       "    </tr>\n",
       "    <tr>\n",
       "      <th>3</th>\n",
       "      <td>user4</td>\n",
       "      <td>provider4</td>\n",
       "      <td>Figma</td>\n",
       "      <td>800</td>\n",
       "      <td>4</td>\n",
       "      <td>Topic4</td>\n",
       "      <td>2024-03-19</td>\n",
       "      <td>2024-04-01</td>\n",
       "    </tr>\n",
       "    <tr>\n",
       "      <th>4</th>\n",
       "      <td>user5</td>\n",
       "      <td>provider5</td>\n",
       "      <td>Docs</td>\n",
       "      <td>200</td>\n",
       "      <td>12</td>\n",
       "      <td>Topic5</td>\n",
       "      <td>2024-03-13</td>\n",
       "      <td>2024-03-27</td>\n",
       "    </tr>\n",
       "  </tbody>\n",
       "</table>\n",
       "</div>"
      ],
      "text/plain": [
       "  username service_provider_username   service  price  no_of_pages   topic  \\\n",
       "0    user1                 provider1       App   3500            6  Topic1   \n",
       "1    user2                 provider2       PPT    575           17  Topic2   \n",
       "2    user3                 provider3  Frontend   1975           16  Topic3   \n",
       "3    user4                 provider4     Figma    800            4  Topic4   \n",
       "4    user5                 provider5      Docs    200           12  Topic5   \n",
       "\n",
       "         date    deadline  \n",
       "0  2024-03-04  2024-03-05  \n",
       "1  2024-03-25  2024-04-04  \n",
       "2  2024-03-27  2024-04-10  \n",
       "3  2024-03-19  2024-04-01  \n",
       "4  2024-03-13  2024-03-27  "
      ]
     },
     "execution_count": 5,
     "metadata": {},
     "output_type": "execute_result"
    }
   ],
   "source": [
    "file_path = 'FinalDatasetDynamicPricing.csv'\n",
    "data = pd.read_csv(file_path)\n",
    "data.head()\n"
   ]
  },
  {
   "cell_type": "code",
   "execution_count": 6,
   "metadata": {},
   "outputs": [
    {
     "data": {
      "text/html": [
       "<div>\n",
       "<style scoped>\n",
       "    .dataframe tbody tr th:only-of-type {\n",
       "        vertical-align: middle;\n",
       "    }\n",
       "\n",
       "    .dataframe tbody tr th {\n",
       "        vertical-align: top;\n",
       "    }\n",
       "\n",
       "    .dataframe thead th {\n",
       "        text-align: right;\n",
       "    }\n",
       "</style>\n",
       "<table border=\"1\" class=\"dataframe\">\n",
       "  <thead>\n",
       "    <tr style=\"text-align: right;\">\n",
       "      <th></th>\n",
       "      <th>username</th>\n",
       "      <th>service_provider_username</th>\n",
       "      <th>service</th>\n",
       "      <th>price</th>\n",
       "      <th>no_of_pages</th>\n",
       "      <th>topic</th>\n",
       "      <th>date</th>\n",
       "      <th>deadline</th>\n",
       "    </tr>\n",
       "  </thead>\n",
       "  <tbody>\n",
       "    <tr>\n",
       "      <th>0</th>\n",
       "      <td>user1</td>\n",
       "      <td>provider1</td>\n",
       "      <td>App</td>\n",
       "      <td>3500</td>\n",
       "      <td>6</td>\n",
       "      <td>Topic1</td>\n",
       "      <td>2024-03-04</td>\n",
       "      <td>2024-03-05</td>\n",
       "    </tr>\n",
       "    <tr>\n",
       "      <th>1</th>\n",
       "      <td>user2</td>\n",
       "      <td>provider2</td>\n",
       "      <td>PPT</td>\n",
       "      <td>575</td>\n",
       "      <td>17</td>\n",
       "      <td>Topic2</td>\n",
       "      <td>2024-03-25</td>\n",
       "      <td>2024-04-04</td>\n",
       "    </tr>\n",
       "    <tr>\n",
       "      <th>2</th>\n",
       "      <td>user3</td>\n",
       "      <td>provider3</td>\n",
       "      <td>Frontend</td>\n",
       "      <td>1975</td>\n",
       "      <td>16</td>\n",
       "      <td>Topic3</td>\n",
       "      <td>2024-03-27</td>\n",
       "      <td>2024-04-10</td>\n",
       "    </tr>\n",
       "    <tr>\n",
       "      <th>3</th>\n",
       "      <td>user4</td>\n",
       "      <td>provider4</td>\n",
       "      <td>Figma</td>\n",
       "      <td>800</td>\n",
       "      <td>4</td>\n",
       "      <td>Topic4</td>\n",
       "      <td>2024-03-19</td>\n",
       "      <td>2024-04-01</td>\n",
       "    </tr>\n",
       "    <tr>\n",
       "      <th>4</th>\n",
       "      <td>user5</td>\n",
       "      <td>provider5</td>\n",
       "      <td>Docs</td>\n",
       "      <td>200</td>\n",
       "      <td>12</td>\n",
       "      <td>Topic5</td>\n",
       "      <td>2024-03-13</td>\n",
       "      <td>2024-03-27</td>\n",
       "    </tr>\n",
       "  </tbody>\n",
       "</table>\n",
       "</div>"
      ],
      "text/plain": [
       "  username service_provider_username   service  price  no_of_pages   topic  \\\n",
       "0    user1                 provider1       App   3500            6  Topic1   \n",
       "1    user2                 provider2       PPT    575           17  Topic2   \n",
       "2    user3                 provider3  Frontend   1975           16  Topic3   \n",
       "3    user4                 provider4     Figma    800            4  Topic4   \n",
       "4    user5                 provider5      Docs    200           12  Topic5   \n",
       "\n",
       "         date    deadline  \n",
       "0  2024-03-04  2024-03-05  \n",
       "1  2024-03-25  2024-04-04  \n",
       "2  2024-03-27  2024-04-10  \n",
       "3  2024-03-19  2024-04-01  \n",
       "4  2024-03-13  2024-03-27  "
      ]
     },
     "execution_count": 6,
     "metadata": {},
     "output_type": "execute_result"
    }
   ],
   "source": [
    "columns_to_keep = ['username', 'service_provider_username', 'service', 'price', 'no_of_pages', 'topic','date', 'deadline']\n",
    "data = data[columns_to_keep].dropna()\n",
    "data.head()\n",
    "\n"
   ]
  },
  {
   "cell_type": "code",
   "execution_count": 7,
   "metadata": {},
   "outputs": [
    {
     "data": {
      "text/html": [
       "<div>\n",
       "<style scoped>\n",
       "    .dataframe tbody tr th:only-of-type {\n",
       "        vertical-align: middle;\n",
       "    }\n",
       "\n",
       "    .dataframe tbody tr th {\n",
       "        vertical-align: top;\n",
       "    }\n",
       "\n",
       "    .dataframe thead th {\n",
       "        text-align: right;\n",
       "    }\n",
       "</style>\n",
       "<table border=\"1\" class=\"dataframe\">\n",
       "  <thead>\n",
       "    <tr style=\"text-align: right;\">\n",
       "      <th></th>\n",
       "      <th>no_of_pages</th>\n",
       "    </tr>\n",
       "  </thead>\n",
       "  <tbody>\n",
       "    <tr>\n",
       "      <th>count</th>\n",
       "      <td>10000.000000</td>\n",
       "    </tr>\n",
       "    <tr>\n",
       "      <th>mean</th>\n",
       "      <td>8.872900</td>\n",
       "    </tr>\n",
       "    <tr>\n",
       "      <th>std</th>\n",
       "      <td>5.485486</td>\n",
       "    </tr>\n",
       "    <tr>\n",
       "      <th>min</th>\n",
       "      <td>1.000000</td>\n",
       "    </tr>\n",
       "    <tr>\n",
       "      <th>25%</th>\n",
       "      <td>4.000000</td>\n",
       "    </tr>\n",
       "    <tr>\n",
       "      <th>50%</th>\n",
       "      <td>7.000000</td>\n",
       "    </tr>\n",
       "    <tr>\n",
       "      <th>75%</th>\n",
       "      <td>13.000000</td>\n",
       "    </tr>\n",
       "    <tr>\n",
       "      <th>max</th>\n",
       "      <td>20.000000</td>\n",
       "    </tr>\n",
       "  </tbody>\n",
       "</table>\n",
       "</div>"
      ],
      "text/plain": [
       "        no_of_pages\n",
       "count  10000.000000\n",
       "mean       8.872900\n",
       "std        5.485486\n",
       "min        1.000000\n",
       "25%        4.000000\n",
       "50%        7.000000\n",
       "75%       13.000000\n",
       "max       20.000000"
      ]
     },
     "execution_count": 7,
     "metadata": {},
     "output_type": "execute_result"
    }
   ],
   "source": [
    "y=data['price']\n",
    "features=['service','no_of_pages','date','deadline']\n",
    "X=data[features]\n",
    "X.describe()"
   ]
  },
  {
   "cell_type": "code",
   "execution_count": 8,
   "metadata": {},
   "outputs": [],
   "source": [
    "data['date'] = pd.to_datetime(data['date'])\n",
    "data['deadline'] = pd.to_datetime(data['deadline'])\n",
    "data['days']=data['deadline']-data['date']\n",
    "\n"
   ]
  },
  {
   "cell_type": "code",
   "execution_count": 9,
   "metadata": {},
   "outputs": [],
   "source": [
    "data.drop(['date','deadline'],axis=1,inplace=True)"
   ]
  },
  {
   "cell_type": "code",
   "execution_count": 10,
   "metadata": {},
   "outputs": [],
   "source": [
    "data.drop(['username','service_provider_username'],axis=1,inplace=True)"
   ]
  },
  {
   "cell_type": "code",
   "execution_count": 11,
   "metadata": {},
   "outputs": [
    {
     "data": {
      "text/html": [
       "<div>\n",
       "<style scoped>\n",
       "    .dataframe tbody tr th:only-of-type {\n",
       "        vertical-align: middle;\n",
       "    }\n",
       "\n",
       "    .dataframe tbody tr th {\n",
       "        vertical-align: top;\n",
       "    }\n",
       "\n",
       "    .dataframe thead th {\n",
       "        text-align: right;\n",
       "    }\n",
       "</style>\n",
       "<table border=\"1\" class=\"dataframe\">\n",
       "  <thead>\n",
       "    <tr style=\"text-align: right;\">\n",
       "      <th></th>\n",
       "      <th>service</th>\n",
       "      <th>price</th>\n",
       "      <th>no_of_pages</th>\n",
       "      <th>topic</th>\n",
       "      <th>days</th>\n",
       "    </tr>\n",
       "  </thead>\n",
       "  <tbody>\n",
       "    <tr>\n",
       "      <th>0</th>\n",
       "      <td>App</td>\n",
       "      <td>3500</td>\n",
       "      <td>6</td>\n",
       "      <td>Topic1</td>\n",
       "      <td>1</td>\n",
       "    </tr>\n",
       "    <tr>\n",
       "      <th>1</th>\n",
       "      <td>PPT</td>\n",
       "      <td>575</td>\n",
       "      <td>17</td>\n",
       "      <td>Topic2</td>\n",
       "      <td>10</td>\n",
       "    </tr>\n",
       "    <tr>\n",
       "      <th>2</th>\n",
       "      <td>Frontend</td>\n",
       "      <td>1975</td>\n",
       "      <td>16</td>\n",
       "      <td>Topic3</td>\n",
       "      <td>14</td>\n",
       "    </tr>\n",
       "    <tr>\n",
       "      <th>3</th>\n",
       "      <td>Figma</td>\n",
       "      <td>800</td>\n",
       "      <td>4</td>\n",
       "      <td>Topic4</td>\n",
       "      <td>13</td>\n",
       "    </tr>\n",
       "    <tr>\n",
       "      <th>4</th>\n",
       "      <td>Docs</td>\n",
       "      <td>200</td>\n",
       "      <td>12</td>\n",
       "      <td>Topic5</td>\n",
       "      <td>14</td>\n",
       "    </tr>\n",
       "  </tbody>\n",
       "</table>\n",
       "</div>"
      ],
      "text/plain": [
       "    service  price  no_of_pages   topic  days\n",
       "0       App   3500            6  Topic1     1\n",
       "1       PPT    575           17  Topic2    10\n",
       "2  Frontend   1975           16  Topic3    14\n",
       "3     Figma    800            4  Topic4    13\n",
       "4      Docs    200           12  Topic5    14"
      ]
     },
     "execution_count": 11,
     "metadata": {},
     "output_type": "execute_result"
    }
   ],
   "source": [
    "data['days']=data['days'].dt.days\n",
    "data.head()\n"
   ]
  },
  {
   "cell_type": "code",
   "execution_count": 12,
   "metadata": {},
   "outputs": [],
   "source": [
    "data.drop(['topic'],axis=1,inplace=True)"
   ]
  },
  {
   "cell_type": "code",
   "execution_count": 13,
   "metadata": {},
   "outputs": [
    {
     "data": {
      "text/html": [
       "<div>\n",
       "<style scoped>\n",
       "    .dataframe tbody tr th:only-of-type {\n",
       "        vertical-align: middle;\n",
       "    }\n",
       "\n",
       "    .dataframe tbody tr th {\n",
       "        vertical-align: top;\n",
       "    }\n",
       "\n",
       "    .dataframe thead th {\n",
       "        text-align: right;\n",
       "    }\n",
       "</style>\n",
       "<table border=\"1\" class=\"dataframe\">\n",
       "  <thead>\n",
       "    <tr style=\"text-align: right;\">\n",
       "      <th></th>\n",
       "      <th>service</th>\n",
       "      <th>price</th>\n",
       "      <th>no_of_pages</th>\n",
       "      <th>days</th>\n",
       "    </tr>\n",
       "  </thead>\n",
       "  <tbody>\n",
       "    <tr>\n",
       "      <th>0</th>\n",
       "      <td>App</td>\n",
       "      <td>3500</td>\n",
       "      <td>6</td>\n",
       "      <td>1</td>\n",
       "    </tr>\n",
       "    <tr>\n",
       "      <th>1</th>\n",
       "      <td>PPT</td>\n",
       "      <td>575</td>\n",
       "      <td>17</td>\n",
       "      <td>10</td>\n",
       "    </tr>\n",
       "    <tr>\n",
       "      <th>2</th>\n",
       "      <td>Frontend</td>\n",
       "      <td>1975</td>\n",
       "      <td>16</td>\n",
       "      <td>14</td>\n",
       "    </tr>\n",
       "    <tr>\n",
       "      <th>3</th>\n",
       "      <td>Figma</td>\n",
       "      <td>800</td>\n",
       "      <td>4</td>\n",
       "      <td>13</td>\n",
       "    </tr>\n",
       "    <tr>\n",
       "      <th>4</th>\n",
       "      <td>Docs</td>\n",
       "      <td>200</td>\n",
       "      <td>12</td>\n",
       "      <td>14</td>\n",
       "    </tr>\n",
       "    <tr>\n",
       "      <th>...</th>\n",
       "      <td>...</td>\n",
       "      <td>...</td>\n",
       "      <td>...</td>\n",
       "      <td>...</td>\n",
       "    </tr>\n",
       "    <tr>\n",
       "      <th>9995</th>\n",
       "      <td>PPT</td>\n",
       "      <td>800</td>\n",
       "      <td>16</td>\n",
       "      <td>5</td>\n",
       "    </tr>\n",
       "    <tr>\n",
       "      <th>9996</th>\n",
       "      <td>Frontend</td>\n",
       "      <td>2000</td>\n",
       "      <td>1</td>\n",
       "      <td>8</td>\n",
       "    </tr>\n",
       "    <tr>\n",
       "      <th>9997</th>\n",
       "      <td>App</td>\n",
       "      <td>3025</td>\n",
       "      <td>7</td>\n",
       "      <td>11</td>\n",
       "    </tr>\n",
       "    <tr>\n",
       "      <th>9998</th>\n",
       "      <td>Figma</td>\n",
       "      <td>700</td>\n",
       "      <td>6</td>\n",
       "      <td>15</td>\n",
       "    </tr>\n",
       "    <tr>\n",
       "      <th>9999</th>\n",
       "      <td>Website</td>\n",
       "      <td>2625</td>\n",
       "      <td>6</td>\n",
       "      <td>3</td>\n",
       "    </tr>\n",
       "  </tbody>\n",
       "</table>\n",
       "<p>10000 rows × 4 columns</p>\n",
       "</div>"
      ],
      "text/plain": [
       "       service  price  no_of_pages  days\n",
       "0          App   3500            6     1\n",
       "1          PPT    575           17    10\n",
       "2     Frontend   1975           16    14\n",
       "3        Figma    800            4    13\n",
       "4         Docs    200           12    14\n",
       "...        ...    ...          ...   ...\n",
       "9995       PPT    800           16     5\n",
       "9996  Frontend   2000            1     8\n",
       "9997       App   3025            7    11\n",
       "9998     Figma    700            6    15\n",
       "9999   Website   2625            6     3\n",
       "\n",
       "[10000 rows x 4 columns]"
      ]
     },
     "execution_count": 13,
     "metadata": {},
     "output_type": "execute_result"
    }
   ],
   "source": [
    "data"
   ]
  },
  {
   "cell_type": "code",
   "execution_count": 14,
   "metadata": {},
   "outputs": [
    {
     "name": "stdout",
     "output_type": "stream",
     "text": [
      "      service  no_of_pages  days\n",
      "9262      6.0            6    15\n",
      "3976      4.0            1     6\n",
      "479       5.0           16    10\n",
      "1078      1.0            3     1\n",
      "8075      2.0            1    14\n",
      "...       ...          ...   ...\n",
      "5787      5.0           14     9\n",
      "8395      2.0           15    11\n",
      "5329      4.0            4     2\n",
      "2729      4.0           20    15\n",
      "1750      4.0           18    13\n",
      "\n",
      "[8000 rows x 3 columns]\n",
      "      service  no_of_pages  days\n",
      "4824      0.0            3    10\n",
      "7482      6.0            6    10\n",
      "8446      0.0            3    11\n",
      "2698      6.0            3     6\n",
      "3655      0.0            6    11\n",
      "...       ...          ...   ...\n",
      "2793      5.0            4    11\n",
      "6         6.0            3    14\n",
      "9531      1.0           15    11\n",
      "9011      1.0            6     9\n",
      "9073      0.0            4     4\n",
      "\n",
      "[2000 rows x 3 columns]\n"
     ]
    }
   ],
   "source": [
    "from sklearn.preprocessing import OrdinalEncoder\n",
    "from sklearn.ensemble import RandomForestRegressor\n",
    "y=data['price']\n",
    "features=['service','no_of_pages','days']\n",
    "X=data[features]\n",
    "X.describe()\n",
    "OrdinalEncoder=OrdinalEncoder()\n",
    "from sklearn.model_selection import train_test_split\n",
    "X_train,X_test,y_train,y_test=train_test_split(X,y,test_size=0.2)\n",
    "\n",
    "lable_X_train=X_train.copy()\n",
    "lable_X_test=X_test.copy()\n",
    "\n",
    "lable_X_train[['service']]=OrdinalEncoder.fit_transform(X_train[['service']])\n",
    "lable_X_test[['service']]=OrdinalEncoder.transform(X_test[['service']])\n",
    "\n",
    "model=RandomForestRegressor(n_estimators=100,random_state=0)\n",
    "print(lable_X_train)\n",
    "print(lable_X_test)\n"
   ]
  },
  {
   "cell_type": "code",
   "execution_count": 15,
   "metadata": {},
   "outputs": [],
   "source": [
    "from sklearn.metrics import mean_absolute_error\n",
    "def get_score(model,X_train,X_test,y_train,y_test):\n",
    "    model.fit(X_train,y_train)\n",
    "    preds=model.predict(X_test)\n",
    "    return mean_absolute_error(y_test,preds)    "
   ]
  },
  {
   "cell_type": "code",
   "execution_count": 16,
   "metadata": {},
   "outputs": [
    {
     "data": {
      "text/plain": [
       "0.442125"
      ]
     },
     "execution_count": 16,
     "metadata": {},
     "output_type": "execute_result"
    }
   ],
   "source": [
    "get_score(model,lable_X_train,lable_X_test,y_train,y_test)"
   ]
  },
  {
   "cell_type": "code",
   "execution_count": 17,
   "metadata": {},
   "outputs": [
    {
     "data": {
      "text/plain": [
       "3.24490625"
      ]
     },
     "execution_count": 17,
     "metadata": {},
     "output_type": "execute_result"
    }
   ],
   "source": [
    "from sklearn.metrics import mean_squared_error\n",
    "model.fit(lable_X_train,y_train)\n",
    "preds=model.predict(lable_X_test)\n",
    "\n",
    "accuracy=mean_squared_error(y_test,preds)\n",
    "accuracy"
   ]
  },
  {
   "cell_type": "code",
   "execution_count": 18,
   "metadata": {},
   "outputs": [
    {
     "data": {
      "text/plain": [
       "0.9999964405528612"
      ]
     },
     "execution_count": 18,
     "metadata": {},
     "output_type": "execute_result"
    }
   ],
   "source": [
    "from sklearn.metrics import r2_score\n",
    "r2=r2_score(y_test,preds)\n",
    "r2"
   ]
  },
  {
   "cell_type": "code",
   "execution_count": 19,
   "metadata": {},
   "outputs": [
    {
     "name": "stdout",
     "output_type": "stream",
     "text": [
      "Predicted Price: 3125.0\n"
     ]
    },
    {
     "name": "stderr",
     "output_type": "stream",
     "text": [
      "d:\\Python\\Lib\\site-packages\\sklearn\\base.py:420: UserWarning: X does not have valid feature names, but RandomForestRegressor was fitted with feature names\n",
      "  warnings.warn(\n"
     ]
    }
   ],
   "source": [
    "# App -> 0\n",
    "# Frontend ->4\n",
    "# Backend -> 1\n",
    "# Docs ->2\n",
    "# Figma ->3\n",
    "# PPT -> 5\n",
    "# Website ->6\n",
    "\n",
    "new_data = {\n",
    "    \"service\":0,\n",
    "    \"no_of_pages\":10,\n",
    "    \"days\":9,\n",
    "}\n",
    "\n",
    "input_data_as_numpy_array = np.array([\n",
    "    new_data[\"service\"],new_data[\"no_of_pages\"], new_data[\"days\"]\n",
    "]).reshape(1, -1)\n",
    "\n",
    "prediction = model.predict(input_data_as_numpy_array)\n",
    "print(\"Predicted Price:\", prediction[0])\n"
   ]
  },
  {
   "cell_type": "code",
   "execution_count": 20,
   "metadata": {},
   "outputs": [
    {
     "data": {
      "text/plain": [
       "<Axes: xlabel='service', ylabel='price'>"
      ]
     },
     "execution_count": 20,
     "metadata": {},
     "output_type": "execute_result"
    },
    {
     "data": {
      "image/png": "[encoded data removed]",
      "text/plain": [
       "<Figure size 640x480 with 1 Axes>"
      ]
     },
     "metadata": {},
     "output_type": "display_data"
    }
   ],
   "source": [
    "sns.scatterplot(x='service',y='price',data=data)"
   ]
  },
  {
   "cell_type": "code",
   "execution_count": 21,
   "metadata": {},
   "outputs": [],
   "source": [
    "temp_data = data.copy()\n",
    "temp_data=temp_data[temp_data['service']=='Figma']"
   ]
  },
  {
   "cell_type": "code",
   "execution_count": 22,
   "metadata": {},
   "outputs": [
    {
     "data": {
      "text/plain": [
       "<Axes: xlabel='no_of_pages', ylabel='price'>"
      ]
     },
     "execution_count": 22,
     "metadata": {},
     "output_type": "execute_result"
    },
    {
     "data": {
      "image/png": "[encoded data removed]",
      "text/plain": [
       "<Figure size 640x480 with 1 Axes>"
      ]
     },
     "metadata": {},
     "output_type": "display_data"
    }
   ],
   "source": [
    "sns.scatterplot(x='no_of_pages',y='price',data=temp_data)"
   ]
  },
  {
   "cell_type": "code",
   "execution_count": 23,
   "metadata": {},
   "outputs": [
    {
     "data": {
      "text/plain": [
       "<Axes: xlabel='days', ylabel='no_of_pages'>"
      ]
     },
     "execution_count": 23,
     "metadata": {},
     "output_type": "execute_result"
    },
    {
     "data": {
      "image/png": "[encoded data removed]",
      "text/plain": [
       "<Figure size 640x480 with 1 Axes>"
      ]
     },
     "metadata": {},
     "output_type": "display_data"
    }
   ],
   "source": [
    "sns.scatterplot(x='days',y='no_of_pages',data=temp_data)"
   ]
  },
  {
   "cell_type": "code",
   "execution_count": 24,
   "metadata": {},
   "outputs": [
    {
     "data": {
      "text/plain": [
       "<Axes: xlabel='no_of_pages', ylabel='price'>"
      ]
     },
     "execution_count": 24,
     "metadata": {},
     "output_type": "execute_result"
    },
    {
     "data": {
      "image/png": "[encoded data removed]",
      "text/plain": [
       "<Figure size 640x480 with 1 Axes>"
      ]
     },
     "metadata": {},
     "output_type": "display_data"
    }
   ],
   "source": [
    "sns.scatterplot(x='no_of_pages',y='price',data=temp_data)"
   ]
  },
  {
   "cell_type": "code",
   "execution_count": 25,
   "metadata": {},
   "outputs": [
    {
     "data": {
      "text/plain": [
       "['DynamicPricingFinal.joblib']"
      ]
     },
     "execution_count": 25,
     "metadata": {},
     "output_type": "execute_result"
    }
   ],
   "source": [
    "# import joblib\n",
    "# joblib.dump(model, 'DynamicPricingFinal.joblib')\n"
   ]
  }
 ],
 "metadata": {
  "kernelspec": {
   "display_name": "Python 3",
   "language": "python",
   "name": "python3"
  },
  "language_info": {
   "codemirror_mode": {
    "name": "ipython",
    "version": 3
   },
   "file_extension": ".py",
   "mimetype": "text/x-python",
   "name": "python",
   "nbconvert_exporter": "python",
   "pygments_lexer": "ipython3",
   "version": "3.11.3"
  }
 },
 "nbformat": 4,
 "nbformat_minor": 2
}
